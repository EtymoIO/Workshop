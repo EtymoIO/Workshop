{
 "cells": [
  {
   "cell_type": "code",
   "execution_count": 4,
   "metadata": {},
   "outputs": [],
   "source": [
    "PAPERS_LOCATION='/home/jondea/etymo/workshop/paper_texts/'\n",
    "def load_paper(paper_id):\n",
    "    with open(PAPERS_LOCATION + str(paper_id) +'/fulltext.txt', 'r') as myfile:\n",
    "        data = myfile.read()\n",
    "    \n",
    "    return data\n"
   ]
  },
  {
   "cell_type": "code",
   "execution_count": 11,
   "metadata": {},
   "outputs": [],
   "source": [
    "example_paper = load_paper(34247)"
   ]
  },
  {
   "cell_type": "markdown",
   "metadata": {},
   "source": [
    "## Heuristic 1"
   ]
  },
  {
   "cell_type": "code",
   "execution_count": 23,
   "metadata": {},
   "outputs": [],
   "source": [
    "joining_words = ['of', 'the', 'and', 'at', '&', 'for', 'de', 'on', '-']\n",
    "stop_chars = ['.', '†', '‡', '¶', '•', '∗', '[', ']', '{', '}', '(', ')']\n",
    "# Words which make us throw out the whole institution, these should probably be filtered in the scraper\n",
    "poison_words = ['Proceedings', 'Meeting', 'Annual', 'Quarterly', 'Conference', 'Press', \n",
    "                'Transactions', 'Journal', 'Award', 'pages', 'Projects', 'Fellowship']\n",
    "\n",
    "def is_ignorable_word(word):\n",
    "    return (len(word) == 0 or (not word[0].isupper() and word not in joining_words))\n",
    "\n",
    "def search_with_context1(text, simple_context=False, before=20, after=20):\n",
    "    queries = ['University']\n",
    "    i = 0\n",
    "    first_letters = dict()\n",
    "    for s in ['University']:\n",
    "        if s[0] not in first_letters:\n",
    "            first_letters[s[0]] = [s]\n",
    "        else:\n",
    "            first_letters[s[0]].append(s)\n",
    "    \n",
    "    matches_with_context=[]\n",
    "    # Loop through entire text\n",
    "    for c in text:\n",
    "        # Throw out most based on the first character\n",
    "        if c in first_letters:\n",
    "            potential_matches = first_letters[c]\n",
    "            match=None\n",
    "            for potential_match in potential_matches:\n",
    "                j=i+1\n",
    "                match_found=True\n",
    "                for pc in potential_match[1:]:\n",
    "                    if pc != text[j]:\n",
    "                        match_found=False\n",
    "                        break\n",
    "                    j += 1\n",
    "                # Check it is end of word, for example we don't want to pick up \"Label\" as \"Lab\"                     \n",
    "                if not (text[j].isspace() or text[j] in stop_chars):\n",
    "                    match_found = False\n",
    "\n",
    "                if match_found:\n",
    "                    match=potential_match\n",
    "                    break\n",
    "            if match:\n",
    "                context_end = 0\n",
    "                context_start = 0\n",
    "                   \n",
    "                context_end = min(i+len(match)+after,len(text))\n",
    "                context_start = max(i-before,0)\n",
    "                \n",
    "                match_with_context = text[context_start:context_end].strip()\n",
    "\n",
    "                matches_with_context.append(match_with_context)\n",
    "\n",
    "        i += 1\n",
    "\n",
    "    return matches_with_context"
   ]
  },
  {
   "cell_type": "code",
   "execution_count": 25,
   "metadata": {},
   "outputs": [
    {
     "data": {
      "text/plain": [
       "['telligence, Wroclaw\\nUniversity of Science and Tech',\n",
       " 'of Physics, Warsaw University of Technology,\\nPola',\n",
       " 'Political Science, University of Naples\\nFederico',\n",
       " 'an town. Manchester University Press.\\n\\n23. Kivelä',\n",
       " 'Systems Laboratory, University of Melbourne, Techn',\n",
       " 'y of communication. University of Illinois\\n\\nMedia,']"
      ]
     },
     "execution_count": 25,
     "metadata": {},
     "output_type": "execute_result"
    }
   ],
   "source": [
    "search_with_context1(example_paper)"
   ]
  },
  {
   "cell_type": "markdown",
   "metadata": {},
   "source": [
    "## Heuristic 2"
   ]
  },
  {
   "cell_type": "code",
   "execution_count": 21,
   "metadata": {},
   "outputs": [],
   "source": [
    "institution_synonyms = ['University', 'Institute', 'Instituition', 'Faculty', 'Academy', 'Center', 'Centre', 'Laboratory', 'Research', 'Labs', 'Lab']\n",
    "joining_words = ['of', 'the', 'and', 'at', '&', 'for', 'de', 'on', '-']\n",
    "stop_chars = ['.', '†', '‡', '¶', '•', '∗', '[', ']', '{', '}', '(', ')']\n",
    "# Words which make us throw out the whole institution, these should probably be filtered in the scraper\n",
    "poison_words = ['Proceedings', 'Meeting', 'Annual', 'Quarterly', 'Conference', 'Press', \n",
    "                'Transactions', 'Journal', 'Award', 'pages', 'Projects', 'Fellowship']\n",
    "\n",
    "def is_ignorable_word(word):\n",
    "    return (len(word) == 0 or (not word[0].isupper() and word not in joining_words))\n",
    "\n",
    "def search_with_context(text, simple_context=False, before=20, after=20):\n",
    "    i = 0\n",
    "    first_letters = dict()\n",
    "    for s in institution_synonyms:\n",
    "        if s[0] not in first_letters:\n",
    "            first_letters[s[0]] = [s]\n",
    "        else:\n",
    "            first_letters[s[0]].append(s)\n",
    "    \n",
    "    matches_with_context=[]\n",
    "    # Loop through entire text\n",
    "    for c in text:\n",
    "        # Throw out most based on the first character\n",
    "        if c in first_letters:\n",
    "            potential_matches = first_letters[c]\n",
    "            match=None\n",
    "            for potential_match in potential_matches:\n",
    "                j=i+1\n",
    "                match_found=True\n",
    "                for pc in potential_match[1:]:\n",
    "                    if pc != text[j]:\n",
    "                        match_found=False\n",
    "                        break\n",
    "                    j += 1\n",
    "                # Check it is end of word, for example we don't want to pick up \"Label\" as \"Lab\"                     \n",
    "                if not (text[j].isspace() or text[j] in stop_chars):\n",
    "                    match_found = False\n",
    "\n",
    "                if match_found:\n",
    "                    match=potential_match\n",
    "                    break\n",
    "            if match:\n",
    "                context_end = 0\n",
    "                context_start = 0\n",
    "                if simple_context:\n",
    "                    # With simple context we just take a fixed number before and after, used for debugging  \n",
    "                    context_end = min(i+len(match)+after,len(text))\n",
    "                    context_start = max(i-before,0)\n",
    "                else:\n",
    "                    # Crawl forward\n",
    "                    context_end = i + len(match) +1\n",
    "                    current_word = ''\n",
    "                    while context_end < len(text):\n",
    "                        if text[context_end] in stop_chars or text[context_end].isdigit():\n",
    "                            if is_ignorable_word(current_word):\n",
    "                                context_end -= len(current_word)\n",
    "                            break\n",
    "                        elif text[context_end].isspace():\n",
    "                            # found a whole word\n",
    "                            if is_ignorable_word(current_word):\n",
    "                                context_end += len(current_word)\n",
    "                                break\n",
    "                            current_word = ''\n",
    "                        else:\n",
    "                            current_word = current_word + text[context_end]\n",
    "                        \n",
    "                        context_end += 1\n",
    "                    \n",
    "                    # Crawl backwards\n",
    "                    context_start = i-2\n",
    "                    current_word = ''\n",
    "                    while context_start >= 0:\n",
    "                        if text[context_start] in stop_chars or text[context_start].isdigit():\n",
    "                            if is_ignorable_word(current_word):\n",
    "                                context_start += len(current_word)\n",
    "                            context_start += 1\n",
    "                            break\n",
    "                        elif text[context_start].isspace():\n",
    "                            # found a whole word\n",
    "                            if is_ignorable_word(current_word):\n",
    "                                context_start += len(current_word)+1\n",
    "                                break\n",
    "                            current_word = ''\n",
    "                        else:\n",
    "                            current_word = text[context_start] + current_word\n",
    "                        \n",
    "                        context_start -= 1\n",
    "                \n",
    "                match_with_context = text[context_start:context_end].strip()\n",
    "                \n",
    "                # Check if whole string is poisoned (contains a string we know never appears in institutions)\n",
    "                poisoned = False\n",
    "                for poison_word in poison_words:\n",
    "                    if poison_word in match_with_context:\n",
    "                        poisoned = True\n",
    "                        break\n",
    "                \n",
    "                \n",
    "                if not poisoned:\n",
    "                    matches_with_context.append(match_with_context)\n",
    "\n",
    "        i += 1\n",
    "\n",
    "    return matches_with_context"
   ]
  },
  {
   "cell_type": "code",
   "execution_count": 22,
   "metadata": {},
   "outputs": [
    {
     "data": {
      "text/plain": [
       "['Research',\n",
       " 'Department of Computational Intelligence, Wroclaw\\nUniversity of Science and Technology, Poland',\n",
       " '2Faculty of Physics, Warsaw University of Technology,\\nPoland',\n",
       " 'Faculty of Physics, Warsaw University of Technology,\\nPoland',\n",
       " 'Department of Political Science, University of Naples\\nFederico II, Italy',\n",
       " 'National Science Centre Poland, the decision no. DEC',\n",
       " 'Grid\\nComputing and Distributed Systems Laboratory, University of Melbourne, Technical Report',\n",
       " 'University of Illinois',\n",
       " 'Victoria Institute of Secondary']"
      ]
     },
     "execution_count": 22,
     "metadata": {},
     "output_type": "execute_result"
    }
   ],
   "source": [
    "search_with_context(example_paper)"
   ]
  },
  {
   "cell_type": "code",
   "execution_count": null,
   "metadata": {},
   "outputs": [],
   "source": []
  }
 ],
 "metadata": {
  "kernelspec": {
   "display_name": "Python 3",
   "language": "python",
   "name": "python3"
  },
  "language_info": {
   "codemirror_mode": {
    "name": "ipython",
    "version": 3
   },
   "file_extension": ".py",
   "mimetype": "text/x-python",
   "name": "python",
   "nbconvert_exporter": "python",
   "pygments_lexer": "ipython3",
   "version": "3.5.2"
  }
 },
 "nbformat": 4,
 "nbformat_minor": 2
}
